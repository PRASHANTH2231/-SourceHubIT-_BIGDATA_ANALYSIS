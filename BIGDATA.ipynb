{
  "nbformat": 4,
  "nbformat_minor": 0,
  "metadata": {
    "colab": {
      "provenance": []
    },
    "kernelspec": {
      "name": "python3",
      "display_name": "Python 3"
    },
    "language_info": {
      "name": "python"
    }
  },
  "cells": [
    {
      "cell_type": "code",
      "execution_count": 20,
      "metadata": {
        "colab": {
          "base_uri": "https://localhost:8080/"
        },
        "id": "QVRFJpEO5KqT",
        "outputId": "b43a78a4-16bc-44dc-83af-5e3b8a5732eb"
      },
      "outputs": [
        {
          "output_type": "stream",
          "name": "stdout",
          "text": [
            "Requirement already satisfied: pyspark in /usr/local/lib/python3.12/dist-packages (3.5.1)\n",
            "Requirement already satisfied: py4j==0.10.9.7 in /usr/local/lib/python3.12/dist-packages (from pyspark) (0.10.9.7)\n"
          ]
        }
      ],
      "source": [
        "!pip install pyspark"
      ]
    },
    {
      "cell_type": "code",
      "source": [
        "from pyspark.sql import SparkSession\n",
        "\n",
        "# Create Spark Session\n",
        "spark = SparkSession.builder \\\n",
        "    .appName(\"AmazonReviewsBigData\") \\\n",
        "    .getOrCreate()\n"
      ],
      "metadata": {
        "id": "LYilG0Ex5b3C"
      },
      "execution_count": 21,
      "outputs": []
    },
    {
      "cell_type": "code",
      "source": [
        "df = spark.read.csv(\"/content/Reviews.csv\", header=True, inferSchema=True)\n",
        "df.printSchema()\n",
        "print(f\"Total Rows: {df.count()}\")\n"
      ],
      "metadata": {
        "colab": {
          "base_uri": "https://localhost:8080/"
        },
        "id": "KjVKRs0y5gFx",
        "outputId": "d57c1ea2-051e-499d-f22d-6fc91f993759"
      },
      "execution_count": 22,
      "outputs": [
        {
          "output_type": "stream",
          "name": "stdout",
          "text": [
            "root\n",
            " |-- Id: integer (nullable = true)\n",
            " |-- ProductId: string (nullable = true)\n",
            " |-- UserId: string (nullable = true)\n",
            " |-- ProfileName: string (nullable = true)\n",
            " |-- HelpfulnessNumerator: string (nullable = true)\n",
            " |-- HelpfulnessDenominator: string (nullable = true)\n",
            " |-- Score: string (nullable = true)\n",
            " |-- Time: string (nullable = true)\n",
            " |-- Summary: string (nullable = true)\n",
            " |-- Text: string (nullable = true)\n",
            "\n",
            "Total Rows: 568454\n"
          ]
        }
      ]
    },
    {
      "cell_type": "code",
      "source": [
        "# Show a few rows\n",
        "df.show(5)\n",
        "\n",
        "# Count distinct users & products\n",
        "df.select(\"UserId\").distinct().count()\n",
        "df.select(\"ProductId\").distinct().count()\n"
      ],
      "metadata": {
        "colab": {
          "base_uri": "https://localhost:8080/"
        },
        "id": "kwyySqqx9vT9",
        "outputId": "f11f22f8-aa7d-4d8c-cf7d-6c6e1624838e"
      },
      "execution_count": 23,
      "outputs": [
        {
          "output_type": "stream",
          "name": "stdout",
          "text": [
            "+---+----------+--------------+--------------------+--------------------+----------------------+-----+----------+--------------------+--------------------+\n",
            "| Id| ProductId|        UserId|         ProfileName|HelpfulnessNumerator|HelpfulnessDenominator|Score|      Time|             Summary|                Text|\n",
            "+---+----------+--------------+--------------------+--------------------+----------------------+-----+----------+--------------------+--------------------+\n",
            "|  1|B001E4KFG0|A3SGXH7AUHU8GW|          delmartian|                   1|                     1|    5|1303862400|Good Quality Dog ...|I have bought sev...|\n",
            "|  2|B00813GRG4|A1D87F6ZCVE5NK|              dll pa|                   0|                     0|    1|1346976000|   Not as Advertised|\"Product arrived ...|\n",
            "|  3|B000LQOCH0| ABXLMWJIXXAIN|\"Natalia Corres \"...|                   1|                     1|    4|1219017600|\"\"\"Delight\"\" says...|\"This is a confec...|\n",
            "|  4|B000UA0QIQ|A395BORC6FGVXV|                Karl|                   3|                     3|    2|1307923200|      Cough Medicine|If you are lookin...|\n",
            "|  5|B006K2ZZ7K|A1UQRSCLF8GW1T|\"Michael D. Bigha...|                   0|                     0|    5|1350777600|         Great taffy|Great taffy at a ...|\n",
            "+---+----------+--------------+--------------------+--------------------+----------------------+-----+----------+--------------------+--------------------+\n",
            "only showing top 5 rows\n",
            "\n"
          ]
        },
        {
          "output_type": "execute_result",
          "data": {
            "text/plain": [
              "74258"
            ]
          },
          "metadata": {},
          "execution_count": 23
        }
      ]
    },
    {
      "cell_type": "code",
      "source": [
        "from pyspark.sql.types import IntegerType, DoubleType\n",
        "\n",
        "# Convert Score to integer\n",
        "df = df.withColumn(\"Score\", df[\"Score\"].cast(IntegerType()))\n",
        "\n",
        "# Average score overall\n",
        "df.groupBy().avg(\"Score\").show()\n",
        "\n",
        "# Top 10 products by average rating\n",
        "top_products = df.groupBy(\"ProductId\") \\\n",
        "                 .avg(\"Score\") \\\n",
        "                 .orderBy(\"avg(Score)\", ascending=False) \\\n",
        "                 .limit(10)\n",
        "top_products.show()\n"
      ],
      "metadata": {
        "colab": {
          "base_uri": "https://localhost:8080/"
        },
        "id": "pHJBVITJ-ToI",
        "outputId": "ebaa3ff5-e8a3-43d6-c21b-780c53e8852f"
      },
      "execution_count": 27,
      "outputs": [
        {
          "output_type": "stream",
          "name": "stdout",
          "text": [
            "+-----------------+\n",
            "|       avg(Score)|\n",
            "+-----------------+\n",
            "|4.176305349530591|\n",
            "+-----------------+\n",
            "\n",
            "+----------+------------------+\n",
            "| ProductId|        avg(Score)|\n",
            "+----------+------------------+\n",
            "|B000X90P5I|              25.0|\n",
            "|B004HN3ONQ|18.666666666666668|\n",
            "|B001EPPGXG|              16.0|\n",
            "|B003GUTELM|              14.5|\n",
            "|B0001WYNDM| 8.333333333333334|\n",
            "|B001E530FM|               8.3|\n",
            "|B001E530FW|               8.3|\n",
            "|B001SAQCNA|              8.25|\n",
            "|B000EF3FR6| 7.428571428571429|\n",
            "|B001R7VT7S| 7.055555555555555|\n",
            "+----------+------------------+\n",
            "\n"
          ]
        }
      ]
    },
    {
      "cell_type": "code",
      "source": [
        "df.write.mode(\"overwrite\").parquet(\"amazon_reviews_parquet\")"
      ],
      "metadata": {
        "id": "xJXTdWY3-c2g"
      },
      "execution_count": 28,
      "outputs": []
    }
  ]
}